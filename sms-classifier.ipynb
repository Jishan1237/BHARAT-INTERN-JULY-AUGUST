{
 "cells": [
  {
   "cell_type": "code",
   "execution_count": 1,
   "id": "95dd8e74",
   "metadata": {
    "_cell_guid": "b1076dfc-b9ad-4769-8c92-a6c4dae69d19",
    "_uuid": "8f2839f25d086af736a60e9eeb907d3b93b6e0e5",
    "execution": {
     "iopub.execute_input": "2022-01-30T03:51:35.961376Z",
     "iopub.status.busy": "2022-01-30T03:51:35.960717Z",
     "iopub.status.idle": "2022-01-30T03:51:35.979150Z",
     "shell.execute_reply": "2022-01-30T03:51:35.980043Z",
     "shell.execute_reply.started": "2021-12-07T12:47:29.081209Z"
    },
    "papermill": {
     "duration": 0.066757,
     "end_time": "2022-01-30T03:51:35.980508",
     "exception": false,
     "start_time": "2022-01-30T03:51:35.913751",
     "status": "completed"
    },
    "tags": []
   },
   "outputs": [
    {
     "name": "stdout",
     "output_type": "stream",
     "text": [
      "/kaggle/input/sms-spam-collection-dataset/spam.csv\n"
     ]
    }
   ],
   "source": [
    "# This Python 3 environment comes with many helpful analytics libraries installed\n",
    "# It is defined by the kaggle/python Docker image: https://github.com/kaggle/docker-python\n",
    "# For example, here's several helpful packages to load\n",
    "\n",
    "import numpy as np # linear algebra\n",
    "import pandas as pd # data processing, CSV file I/O (e.g. pd.read_csv)\n",
    "\n",
    "# Input data files are available in the read-only \"../input/\" directory\n",
    "# For example, running this (by clicking run or pressing Shift+Enter) will list all files under the input directory\n",
    "\n",
    "import os\n",
    "for dirname, _, filenames in os.walk('/kaggle/input'):\n",
    "    for filename in filenames:\n",
    "        print(os.path.join(dirname, filename))\n",
    "\n",
    "# You can write up to 20GB to the current directory (/kaggle/working/) that gets preserved as output when you create a version using \"Save & Run All\" \n",
    "# You can also write temporary files to /kaggle/temp/, but they won't be saved outside of the current session"
   ]
  },
  {
   "cell_type": "markdown",
   "id": "42ced21b",
   "metadata": {
    "papermill": {
     "duration": 0.027039,
     "end_time": "2022-01-30T03:51:36.037544",
     "exception": false,
     "start_time": "2022-01-30T03:51:36.010505",
     "status": "completed"
    },
    "tags": []
   },
   "source": [
    "<h3>Needful libraries</h3>"
   ]
  },
  {
   "cell_type": "code",
   "execution_count": 2,
   "id": "f98f3ad8",
   "metadata": {
    "execution": {
     "iopub.execute_input": "2022-01-30T03:51:36.094849Z",
     "iopub.status.busy": "2022-01-30T03:51:36.093853Z",
     "iopub.status.idle": "2022-01-30T03:51:37.798809Z",
     "shell.execute_reply": "2022-01-30T03:51:37.798128Z",
     "shell.execute_reply.started": "2021-12-07T12:47:32.032819Z"
    },
    "papermill": {
     "duration": 1.73489,
     "end_time": "2022-01-30T03:51:37.798944",
     "exception": false,
     "start_time": "2022-01-30T03:51:36.064054",
     "status": "completed"
    },
    "tags": []
   },
   "outputs": [],
   "source": [
    "import re\n",
    "import nltk\n",
    "from nltk.stem import WordNetLemmatizer\n",
    "from nltk.corpus import stopwords\n",
    "from imblearn.over_sampling import SMOTE\n",
    "from sklearn.preprocessing import LabelEncoder\n",
    "from sklearn.model_selection import train_test_split\n",
    "from sklearn.feature_extraction.text import CountVectorizer,TfidfVectorizer\n",
    "from sklearn.svm import SVC\n",
    "from sklearn.metrics import accuracy_score,classification_report,confusion_matrix"
   ]
  },
  {
   "cell_type": "code",
   "execution_count": 3,
   "id": "1d85ebb2",
   "metadata": {
    "execution": {
     "iopub.execute_input": "2022-01-30T03:51:37.858648Z",
     "iopub.status.busy": "2022-01-30T03:51:37.857968Z",
     "iopub.status.idle": "2022-01-30T03:51:37.910153Z",
     "shell.execute_reply": "2022-01-30T03:51:37.910682Z",
     "shell.execute_reply.started": "2021-12-07T12:51:19.958836Z"
    },
    "papermill": {
     "duration": 0.085228,
     "end_time": "2022-01-30T03:51:37.910852",
     "exception": false,
     "start_time": "2022-01-30T03:51:37.825624",
     "status": "completed"
    },
    "tags": []
   },
   "outputs": [
    {
     "data": {
      "text/html": [
       "<div>\n",
       "<style scoped>\n",
       "    .dataframe tbody tr th:only-of-type {\n",
       "        vertical-align: middle;\n",
       "    }\n",
       "\n",
       "    .dataframe tbody tr th {\n",
       "        vertical-align: top;\n",
       "    }\n",
       "\n",
       "    .dataframe thead th {\n",
       "        text-align: right;\n",
       "    }\n",
       "</style>\n",
       "<table border=\"1\" class=\"dataframe\">\n",
       "  <thead>\n",
       "    <tr style=\"text-align: right;\">\n",
       "      <th></th>\n",
       "      <th>v1</th>\n",
       "      <th>v2</th>\n",
       "      <th>Unnamed: 2</th>\n",
       "      <th>Unnamed: 3</th>\n",
       "      <th>Unnamed: 4</th>\n",
       "    </tr>\n",
       "  </thead>\n",
       "  <tbody>\n",
       "    <tr>\n",
       "      <th>0</th>\n",
       "      <td>ham</td>\n",
       "      <td>Go until jurong point, crazy.. Available only ...</td>\n",
       "      <td>NaN</td>\n",
       "      <td>NaN</td>\n",
       "      <td>NaN</td>\n",
       "    </tr>\n",
       "    <tr>\n",
       "      <th>1</th>\n",
       "      <td>ham</td>\n",
       "      <td>Ok lar... Joking wif u oni...</td>\n",
       "      <td>NaN</td>\n",
       "      <td>NaN</td>\n",
       "      <td>NaN</td>\n",
       "    </tr>\n",
       "    <tr>\n",
       "      <th>2</th>\n",
       "      <td>spam</td>\n",
       "      <td>Free entry in 2 a wkly comp to win FA Cup fina...</td>\n",
       "      <td>NaN</td>\n",
       "      <td>NaN</td>\n",
       "      <td>NaN</td>\n",
       "    </tr>\n",
       "    <tr>\n",
       "      <th>3</th>\n",
       "      <td>ham</td>\n",
       "      <td>U dun say so early hor... U c already then say...</td>\n",
       "      <td>NaN</td>\n",
       "      <td>NaN</td>\n",
       "      <td>NaN</td>\n",
       "    </tr>\n",
       "    <tr>\n",
       "      <th>4</th>\n",
       "      <td>ham</td>\n",
       "      <td>Nah I don't think he goes to usf, he lives aro...</td>\n",
       "      <td>NaN</td>\n",
       "      <td>NaN</td>\n",
       "      <td>NaN</td>\n",
       "    </tr>\n",
       "  </tbody>\n",
       "</table>\n",
       "</div>"
      ],
      "text/plain": [
       "     v1                                                 v2 Unnamed: 2  \\\n",
       "0   ham  Go until jurong point, crazy.. Available only ...        NaN   \n",
       "1   ham                      Ok lar... Joking wif u oni...        NaN   \n",
       "2  spam  Free entry in 2 a wkly comp to win FA Cup fina...        NaN   \n",
       "3   ham  U dun say so early hor... U c already then say...        NaN   \n",
       "4   ham  Nah I don't think he goes to usf, he lives aro...        NaN   \n",
       "\n",
       "  Unnamed: 3 Unnamed: 4  \n",
       "0        NaN        NaN  \n",
       "1        NaN        NaN  \n",
       "2        NaN        NaN  \n",
       "3        NaN        NaN  \n",
       "4        NaN        NaN  "
      ]
     },
     "execution_count": 3,
     "metadata": {},
     "output_type": "execute_result"
    }
   ],
   "source": [
    "#Read the dataset\n",
    "data = pd.read_csv('../input/sms-spam-collection-dataset/spam.csv',encoding=\"ISO-8859-1\")\n",
    "data.head()"
   ]
  },
  {
   "cell_type": "code",
   "execution_count": 4,
   "id": "d8495b62",
   "metadata": {
    "execution": {
     "iopub.execute_input": "2022-01-30T03:51:37.969045Z",
     "iopub.status.busy": "2022-01-30T03:51:37.968069Z",
     "iopub.status.idle": "2022-01-30T03:51:37.977248Z",
     "shell.execute_reply": "2022-01-30T03:51:37.977775Z",
     "shell.execute_reply.started": "2021-12-07T12:51:22.052234Z"
    },
    "papermill": {
     "duration": 0.039982,
     "end_time": "2022-01-30T03:51:37.977948",
     "exception": false,
     "start_time": "2022-01-30T03:51:37.937966",
     "status": "completed"
    },
    "tags": []
   },
   "outputs": [],
   "source": [
    "#Drop unwanted columns\n",
    "data.drop(['Unnamed: 2','Unnamed: 3','Unnamed: 4'],axis=1,inplace=True)"
   ]
  },
  {
   "cell_type": "code",
   "execution_count": 5,
   "id": "ce624139",
   "metadata": {
    "execution": {
     "iopub.execute_input": "2022-01-30T03:51:38.036707Z",
     "iopub.status.busy": "2022-01-30T03:51:38.035730Z",
     "iopub.status.idle": "2022-01-30T03:51:38.042548Z",
     "shell.execute_reply": "2022-01-30T03:51:38.043028Z",
     "shell.execute_reply.started": "2021-12-07T12:51:22.889831Z"
    },
    "papermill": {
     "duration": 0.037497,
     "end_time": "2022-01-30T03:51:38.043234",
     "exception": false,
     "start_time": "2022-01-30T03:51:38.005737",
     "status": "completed"
    },
    "tags": []
   },
   "outputs": [],
   "source": [
    "#Rename columns\n",
    "data.rename(columns={\"v1\": \"target\", \"v2\": \"sms\"},inplace=True)"
   ]
  },
  {
   "cell_type": "code",
   "execution_count": 6,
   "id": "b2712356",
   "metadata": {
    "execution": {
     "iopub.execute_input": "2022-01-30T03:51:38.111264Z",
     "iopub.status.busy": "2022-01-30T03:51:38.110543Z",
     "iopub.status.idle": "2022-01-30T03:51:38.113171Z",
     "shell.execute_reply": "2022-01-30T03:51:38.113672Z",
     "shell.execute_reply.started": "2021-12-07T12:51:24.153428Z"
    },
    "papermill": {
     "duration": 0.041848,
     "end_time": "2022-01-30T03:51:38.113834",
     "exception": false,
     "start_time": "2022-01-30T03:51:38.071986",
     "status": "completed"
    },
    "tags": []
   },
   "outputs": [
    {
     "data": {
      "text/html": [
       "<div>\n",
       "<style scoped>\n",
       "    .dataframe tbody tr th:only-of-type {\n",
       "        vertical-align: middle;\n",
       "    }\n",
       "\n",
       "    .dataframe tbody tr th {\n",
       "        vertical-align: top;\n",
       "    }\n",
       "\n",
       "    .dataframe thead th {\n",
       "        text-align: right;\n",
       "    }\n",
       "</style>\n",
       "<table border=\"1\" class=\"dataframe\">\n",
       "  <thead>\n",
       "    <tr style=\"text-align: right;\">\n",
       "      <th></th>\n",
       "      <th>target</th>\n",
       "      <th>sms</th>\n",
       "    </tr>\n",
       "  </thead>\n",
       "  <tbody>\n",
       "    <tr>\n",
       "      <th>0</th>\n",
       "      <td>ham</td>\n",
       "      <td>Go until jurong point, crazy.. Available only ...</td>\n",
       "    </tr>\n",
       "    <tr>\n",
       "      <th>1</th>\n",
       "      <td>ham</td>\n",
       "      <td>Ok lar... Joking wif u oni...</td>\n",
       "    </tr>\n",
       "    <tr>\n",
       "      <th>2</th>\n",
       "      <td>spam</td>\n",
       "      <td>Free entry in 2 a wkly comp to win FA Cup fina...</td>\n",
       "    </tr>\n",
       "    <tr>\n",
       "      <th>3</th>\n",
       "      <td>ham</td>\n",
       "      <td>U dun say so early hor... U c already then say...</td>\n",
       "    </tr>\n",
       "    <tr>\n",
       "      <th>4</th>\n",
       "      <td>ham</td>\n",
       "      <td>Nah I don't think he goes to usf, he lives aro...</td>\n",
       "    </tr>\n",
       "  </tbody>\n",
       "</table>\n",
       "</div>"
      ],
      "text/plain": [
       "  target                                                sms\n",
       "0    ham  Go until jurong point, crazy.. Available only ...\n",
       "1    ham                      Ok lar... Joking wif u oni...\n",
       "2   spam  Free entry in 2 a wkly comp to win FA Cup fina...\n",
       "3    ham  U dun say so early hor... U c already then say...\n",
       "4    ham  Nah I don't think he goes to usf, he lives aro..."
      ]
     },
     "execution_count": 6,
     "metadata": {},
     "output_type": "execute_result"
    }
   ],
   "source": [
    "#Take a copy from original dataset\n",
    "df=data.copy()\n",
    "df.head()"
   ]
  },
  {
   "cell_type": "code",
   "execution_count": 7,
   "id": "8eec32e7",
   "metadata": {
    "execution": {
     "iopub.execute_input": "2022-01-30T03:51:38.179990Z",
     "iopub.status.busy": "2022-01-30T03:51:38.172099Z",
     "iopub.status.idle": "2022-01-30T03:51:38.182720Z",
     "shell.execute_reply": "2022-01-30T03:51:38.183253Z",
     "shell.execute_reply.started": "2021-12-07T12:51:28.49433Z"
    },
    "papermill": {
     "duration": 0.041659,
     "end_time": "2022-01-30T03:51:38.183420",
     "exception": false,
     "start_time": "2022-01-30T03:51:38.141761",
     "status": "completed"
    },
    "tags": []
   },
   "outputs": [
    {
     "data": {
      "text/plain": [
       "ham     4825\n",
       "spam     747\n",
       "Name: target, dtype: int64"
      ]
     },
     "execution_count": 7,
     "metadata": {},
     "output_type": "execute_result"
    }
   ],
   "source": [
    "#to check how many observations belongs to each class\n",
    "df['target'].value_counts()"
   ]
  },
  {
   "cell_type": "markdown",
   "id": "c5b7927f",
   "metadata": {
    "papermill": {
     "duration": 0.02785,
     "end_time": "2022-01-30T03:51:38.239291",
     "exception": false,
     "start_time": "2022-01-30T03:51:38.211441",
     "status": "completed"
    },
    "tags": []
   },
   "source": [
    "**<h3>Data Wrangling</h3>**"
   ]
  },
  {
   "cell_type": "code",
   "execution_count": 8,
   "id": "c85add6d",
   "metadata": {
    "execution": {
     "iopub.execute_input": "2022-01-30T03:51:38.302857Z",
     "iopub.status.busy": "2022-01-30T03:51:38.302030Z",
     "iopub.status.idle": "2022-01-30T03:51:38.305164Z",
     "shell.execute_reply": "2022-01-30T03:51:38.305705Z",
     "shell.execute_reply.started": "2021-12-07T12:51:37.555685Z"
    },
    "papermill": {
     "duration": 0.038871,
     "end_time": "2022-01-30T03:51:38.305874",
     "exception": false,
     "start_time": "2022-01-30T03:51:38.267003",
     "status": "completed"
    },
    "tags": []
   },
   "outputs": [
    {
     "data": {
      "text/plain": [
       "403"
      ]
     },
     "execution_count": 8,
     "metadata": {},
     "output_type": "execute_result"
    }
   ],
   "source": [
    "#check duplicates\n",
    "df['sms'].duplicated().sum()"
   ]
  },
  {
   "cell_type": "code",
   "execution_count": 9,
   "id": "156e1457",
   "metadata": {
    "execution": {
     "iopub.execute_input": "2022-01-30T03:51:38.367733Z",
     "iopub.status.busy": "2022-01-30T03:51:38.367016Z",
     "iopub.status.idle": "2022-01-30T03:51:38.374937Z",
     "shell.execute_reply": "2022-01-30T03:51:38.375637Z",
     "shell.execute_reply.started": "2021-12-07T12:51:40.183639Z"
    },
    "papermill": {
     "duration": 0.041911,
     "end_time": "2022-01-30T03:51:38.375873",
     "exception": false,
     "start_time": "2022-01-30T03:51:38.333962",
     "status": "completed"
    },
    "tags": []
   },
   "outputs": [],
   "source": [
    "#remove all duplicate rows\n",
    "df.drop_duplicates(inplace=True)"
   ]
  },
  {
   "cell_type": "code",
   "execution_count": 10,
   "id": "645b2a36",
   "metadata": {
    "execution": {
     "iopub.execute_input": "2022-01-30T03:51:38.448032Z",
     "iopub.status.busy": "2022-01-30T03:51:38.446937Z",
     "iopub.status.idle": "2022-01-30T03:51:38.449291Z",
     "shell.execute_reply": "2022-01-30T03:51:38.449928Z",
     "shell.execute_reply.started": "2021-12-07T12:51:41.46395Z"
    },
    "papermill": {
     "duration": 0.043853,
     "end_time": "2022-01-30T03:51:38.450123",
     "exception": false,
     "start_time": "2022-01-30T03:51:38.406270",
     "status": "completed"
    },
    "tags": []
   },
   "outputs": [],
   "source": [
    "#reset index\n",
    "df.reset_index(inplace=True)"
   ]
  },
  {
   "cell_type": "code",
   "execution_count": 11,
   "id": "a0393868",
   "metadata": {
    "execution": {
     "iopub.execute_input": "2022-01-30T03:51:38.519164Z",
     "iopub.status.busy": "2022-01-30T03:51:38.518201Z",
     "iopub.status.idle": "2022-01-30T03:51:38.523654Z",
     "shell.execute_reply": "2022-01-30T03:51:38.524351Z",
     "shell.execute_reply.started": "2021-12-07T12:51:43.13528Z"
    },
    "papermill": {
     "duration": 0.043136,
     "end_time": "2022-01-30T03:51:38.524529",
     "exception": false,
     "start_time": "2022-01-30T03:51:38.481393",
     "status": "completed"
    },
    "tags": []
   },
   "outputs": [],
   "source": [
    "#remove old index column\n",
    "df.drop(\"index\",axis=1,inplace=True)"
   ]
  },
  {
   "cell_type": "code",
   "execution_count": 12,
   "id": "e025fd99",
   "metadata": {
    "execution": {
     "iopub.execute_input": "2022-01-30T03:51:38.587520Z",
     "iopub.status.busy": "2022-01-30T03:51:38.586410Z",
     "iopub.status.idle": "2022-01-30T03:51:38.597710Z",
     "shell.execute_reply": "2022-01-30T03:51:38.598360Z",
     "shell.execute_reply.started": "2021-12-07T12:51:44.1144Z"
    },
    "papermill": {
     "duration": 0.044228,
     "end_time": "2022-01-30T03:51:38.598591",
     "exception": false,
     "start_time": "2022-01-30T03:51:38.554363",
     "status": "completed"
    },
    "tags": []
   },
   "outputs": [
    {
     "data": {
      "text/plain": [
       "target    0\n",
       "sms       0\n",
       "dtype: int64"
      ]
     },
     "execution_count": 12,
     "metadata": {},
     "output_type": "execute_result"
    }
   ],
   "source": [
    "#check missing values\n",
    "df.isna().sum()"
   ]
  },
  {
   "cell_type": "code",
   "execution_count": 13,
   "id": "b9eb98a1",
   "metadata": {
    "execution": {
     "iopub.execute_input": "2022-01-30T03:51:38.665577Z",
     "iopub.status.busy": "2022-01-30T03:51:38.664648Z",
     "iopub.status.idle": "2022-01-30T03:51:38.676678Z",
     "shell.execute_reply": "2022-01-30T03:51:38.677453Z",
     "shell.execute_reply.started": "2021-12-07T12:51:47.485205Z"
    },
    "papermill": {
     "duration": 0.047169,
     "end_time": "2022-01-30T03:51:38.677683",
     "exception": false,
     "start_time": "2022-01-30T03:51:38.630514",
     "status": "completed"
    },
    "tags": []
   },
   "outputs": [
    {
     "data": {
      "text/html": [
       "<div>\n",
       "<style scoped>\n",
       "    .dataframe tbody tr th:only-of-type {\n",
       "        vertical-align: middle;\n",
       "    }\n",
       "\n",
       "    .dataframe tbody tr th {\n",
       "        vertical-align: top;\n",
       "    }\n",
       "\n",
       "    .dataframe thead th {\n",
       "        text-align: right;\n",
       "    }\n",
       "</style>\n",
       "<table border=\"1\" class=\"dataframe\">\n",
       "  <thead>\n",
       "    <tr style=\"text-align: right;\">\n",
       "      <th></th>\n",
       "      <th>target</th>\n",
       "      <th>sms</th>\n",
       "    </tr>\n",
       "  </thead>\n",
       "  <tbody>\n",
       "    <tr>\n",
       "      <th>0</th>\n",
       "      <td>0</td>\n",
       "      <td>Go until jurong point, crazy.. Available only ...</td>\n",
       "    </tr>\n",
       "    <tr>\n",
       "      <th>1</th>\n",
       "      <td>0</td>\n",
       "      <td>Ok lar... Joking wif u oni...</td>\n",
       "    </tr>\n",
       "    <tr>\n",
       "      <th>2</th>\n",
       "      <td>1</td>\n",
       "      <td>Free entry in 2 a wkly comp to win FA Cup fina...</td>\n",
       "    </tr>\n",
       "    <tr>\n",
       "      <th>3</th>\n",
       "      <td>0</td>\n",
       "      <td>U dun say so early hor... U c already then say...</td>\n",
       "    </tr>\n",
       "    <tr>\n",
       "      <th>4</th>\n",
       "      <td>0</td>\n",
       "      <td>Nah I don't think he goes to usf, he lives aro...</td>\n",
       "    </tr>\n",
       "  </tbody>\n",
       "</table>\n",
       "</div>"
      ],
      "text/plain": [
       "   target                                                sms\n",
       "0       0  Go until jurong point, crazy.. Available only ...\n",
       "1       0                      Ok lar... Joking wif u oni...\n",
       "2       1  Free entry in 2 a wkly comp to win FA Cup fina...\n",
       "3       0  U dun say so early hor... U c already then say...\n",
       "4       0  Nah I don't think he goes to usf, he lives aro..."
      ]
     },
     "execution_count": 13,
     "metadata": {},
     "output_type": "execute_result"
    }
   ],
   "source": [
    "#0->ham (or good sms) 1->spam \n",
    "le=LabelEncoder()\n",
    "df['target']=le.fit_transform(df['target'])\n",
    "df.head()"
   ]
  },
  {
   "cell_type": "code",
   "execution_count": 14,
   "id": "4d656d23",
   "metadata": {
    "execution": {
     "iopub.execute_input": "2022-01-30T03:51:38.754749Z",
     "iopub.status.busy": "2022-01-30T03:51:38.753719Z",
     "iopub.status.idle": "2022-01-30T03:51:38.848268Z",
     "shell.execute_reply": "2022-01-30T03:51:38.848748Z",
     "shell.execute_reply.started": "2021-12-07T12:52:14.619455Z"
    },
    "papermill": {
     "duration": 0.138538,
     "end_time": "2022-01-30T03:51:38.848930",
     "exception": false,
     "start_time": "2022-01-30T03:51:38.710392",
     "status": "completed"
    },
    "tags": []
   },
   "outputs": [],
   "source": [
    "#cleaning text\n",
    "\n",
    "corpus=[] #Empty list\n",
    "\n",
    "for i in range(df.shape[0]):\n",
    "    review=re.sub('[^a-zA-Z]',' ',df['sms'][i]) #apart from a-z and A-Z, replace everything else with blank spaces\n",
    "    review=review.lower() #convert all the words into lower case\n",
    "    corpus.append(review) #append cleaned texts to above empty list"
   ]
  },
  {
   "cell_type": "code",
   "execution_count": 15,
   "id": "4e329925",
   "metadata": {
    "execution": {
     "iopub.execute_input": "2022-01-30T03:51:38.912927Z",
     "iopub.status.busy": "2022-01-30T03:51:38.910588Z",
     "iopub.status.idle": "2022-01-30T03:51:38.920600Z",
     "shell.execute_reply": "2022-01-30T03:51:38.921381Z",
     "shell.execute_reply.started": "2021-12-07T12:52:26.790812Z"
    },
    "papermill": {
     "duration": 0.043087,
     "end_time": "2022-01-30T03:51:38.921606",
     "exception": false,
     "start_time": "2022-01-30T03:51:38.878519",
     "status": "completed"
    },
    "tags": []
   },
   "outputs": [
    {
     "data": {
      "text/html": [
       "<div>\n",
       "<style scoped>\n",
       "    .dataframe tbody tr th:only-of-type {\n",
       "        vertical-align: middle;\n",
       "    }\n",
       "\n",
       "    .dataframe tbody tr th {\n",
       "        vertical-align: top;\n",
       "    }\n",
       "\n",
       "    .dataframe thead th {\n",
       "        text-align: right;\n",
       "    }\n",
       "</style>\n",
       "<table border=\"1\" class=\"dataframe\">\n",
       "  <thead>\n",
       "    <tr style=\"text-align: right;\">\n",
       "      <th></th>\n",
       "      <th>target</th>\n",
       "      <th>sms</th>\n",
       "      <th>features</th>\n",
       "    </tr>\n",
       "  </thead>\n",
       "  <tbody>\n",
       "    <tr>\n",
       "      <th>0</th>\n",
       "      <td>0</td>\n",
       "      <td>Go until jurong point, crazy.. Available only ...</td>\n",
       "      <td>go until jurong point  crazy   available only ...</td>\n",
       "    </tr>\n",
       "    <tr>\n",
       "      <th>1</th>\n",
       "      <td>0</td>\n",
       "      <td>Ok lar... Joking wif u oni...</td>\n",
       "      <td>ok lar    joking wif u oni</td>\n",
       "    </tr>\n",
       "    <tr>\n",
       "      <th>2</th>\n",
       "      <td>1</td>\n",
       "      <td>Free entry in 2 a wkly comp to win FA Cup fina...</td>\n",
       "      <td>free entry in   a wkly comp to win fa cup fina...</td>\n",
       "    </tr>\n",
       "    <tr>\n",
       "      <th>3</th>\n",
       "      <td>0</td>\n",
       "      <td>U dun say so early hor... U c already then say...</td>\n",
       "      <td>u dun say so early hor    u c already then say</td>\n",
       "    </tr>\n",
       "    <tr>\n",
       "      <th>4</th>\n",
       "      <td>0</td>\n",
       "      <td>Nah I don't think he goes to usf, he lives aro...</td>\n",
       "      <td>nah i don t think he goes to usf  he lives aro...</td>\n",
       "    </tr>\n",
       "  </tbody>\n",
       "</table>\n",
       "</div>"
      ],
      "text/plain": [
       "   target                                                sms  \\\n",
       "0       0  Go until jurong point, crazy.. Available only ...   \n",
       "1       0                      Ok lar... Joking wif u oni...   \n",
       "2       1  Free entry in 2 a wkly comp to win FA Cup fina...   \n",
       "3       0  U dun say so early hor... U c already then say...   \n",
       "4       0  Nah I don't think he goes to usf, he lives aro...   \n",
       "\n",
       "                                            features  \n",
       "0  go until jurong point  crazy   available only ...  \n",
       "1                      ok lar    joking wif u oni     \n",
       "2  free entry in   a wkly comp to win fa cup fina...  \n",
       "3  u dun say so early hor    u c already then say     \n",
       "4  nah i don t think he goes to usf  he lives aro...  "
      ]
     },
     "execution_count": 15,
     "metadata": {},
     "output_type": "execute_result"
    }
   ],
   "source": [
    "#add features column to df dataframe\n",
    "df['features']=corpus\n",
    "df.head()"
   ]
  },
  {
   "cell_type": "markdown",
   "id": "12e8696b",
   "metadata": {
    "papermill": {
     "duration": 0.029519,
     "end_time": "2022-01-30T03:51:38.983985",
     "exception": false,
     "start_time": "2022-01-30T03:51:38.954466",
     "status": "completed"
    },
    "tags": []
   },
   "source": [
    "**<h3>Separating independent and dependent data</h3>**"
   ]
  },
  {
   "cell_type": "code",
   "execution_count": 16,
   "id": "15e4988c",
   "metadata": {
    "execution": {
     "iopub.execute_input": "2022-01-30T03:51:39.048237Z",
     "iopub.status.busy": "2022-01-30T03:51:39.046205Z",
     "iopub.status.idle": "2022-01-30T03:51:39.050997Z",
     "shell.execute_reply": "2022-01-30T03:51:39.050512Z",
     "shell.execute_reply.started": "2021-12-07T12:53:11.586275Z"
    },
    "papermill": {
     "duration": 0.037783,
     "end_time": "2022-01-30T03:51:39.051132",
     "exception": false,
     "start_time": "2022-01-30T03:51:39.013349",
     "status": "completed"
    },
    "tags": []
   },
   "outputs": [],
   "source": [
    "x=df['features']\n",
    "y=df['target']"
   ]
  },
  {
   "cell_type": "markdown",
   "id": "c4cee176",
   "metadata": {
    "papermill": {
     "duration": 0.030386,
     "end_time": "2022-01-30T03:51:39.111187",
     "exception": false,
     "start_time": "2022-01-30T03:51:39.080801",
     "status": "completed"
    },
    "tags": []
   },
   "source": [
    "**<h3>Bag of Word</h3>**"
   ]
  },
  {
   "cell_type": "markdown",
   "id": "580781ec",
   "metadata": {
    "papermill": {
     "duration": 0.029047,
     "end_time": "2022-01-30T03:51:39.172181",
     "exception": false,
     "start_time": "2022-01-30T03:51:39.143134",
     "status": "completed"
    },
    "tags": []
   },
   "source": [
    "In lieu of Bag of Words, you can use Tf-idf, word2vec etc.."
   ]
  },
  {
   "cell_type": "code",
   "execution_count": 17,
   "id": "f618b374",
   "metadata": {
    "execution": {
     "iopub.execute_input": "2022-01-30T03:51:39.240759Z",
     "iopub.status.busy": "2022-01-30T03:51:39.240036Z",
     "iopub.status.idle": "2022-01-30T03:51:39.370311Z",
     "shell.execute_reply": "2022-01-30T03:51:39.369606Z",
     "shell.execute_reply.started": "2021-12-07T12:53:45.048749Z"
    },
    "papermill": {
     "duration": 0.169069,
     "end_time": "2022-01-30T03:51:39.370450",
     "exception": false,
     "start_time": "2022-01-30T03:51:39.201381",
     "status": "completed"
    },
    "tags": []
   },
   "outputs": [],
   "source": [
    "cvec=CountVectorizer()\n",
    "cvdf=cvec.fit_transform(x)"
   ]
  },
  {
   "cell_type": "code",
   "execution_count": 18,
   "id": "d0ec8916",
   "metadata": {
    "execution": {
     "iopub.execute_input": "2022-01-30T03:51:39.432173Z",
     "iopub.status.busy": "2022-01-30T03:51:39.431541Z",
     "iopub.status.idle": "2022-01-30T03:51:39.543790Z",
     "shell.execute_reply": "2022-01-30T03:51:39.544391Z",
     "shell.execute_reply.started": "2021-12-07T12:53:54.709314Z"
    },
    "papermill": {
     "duration": 0.144802,
     "end_time": "2022-01-30T03:51:39.544558",
     "exception": false,
     "start_time": "2022-01-30T03:51:39.399756",
     "status": "completed"
    },
    "tags": []
   },
   "outputs": [
    {
     "data": {
      "text/plain": [
       "array([[0, 0, 0, ..., 0, 0, 0],\n",
       "       [0, 0, 0, ..., 0, 0, 0],\n",
       "       [0, 0, 0, ..., 0, 0, 0],\n",
       "       ...,\n",
       "       [0, 0, 0, ..., 0, 0, 0],\n",
       "       [0, 0, 0, ..., 0, 0, 0],\n",
       "       [0, 0, 0, ..., 0, 0, 0]])"
      ]
     },
     "execution_count": 18,
     "metadata": {},
     "output_type": "execute_result"
    }
   ],
   "source": [
    "cvdf.toarray()"
   ]
  },
  {
   "cell_type": "markdown",
   "id": "5c56f40d",
   "metadata": {
    "papermill": {
     "duration": 0.029277,
     "end_time": "2022-01-30T03:51:39.603458",
     "exception": false,
     "start_time": "2022-01-30T03:51:39.574181",
     "status": "completed"
    },
    "tags": []
   },
   "source": [
    "**<h3>Apply SMOTE</h3>**"
   ]
  },
  {
   "cell_type": "code",
   "execution_count": 19,
   "id": "0a385a82",
   "metadata": {
    "execution": {
     "iopub.execute_input": "2022-01-30T03:51:39.667807Z",
     "iopub.status.busy": "2022-01-30T03:51:39.667168Z",
     "iopub.status.idle": "2022-01-30T03:51:39.722960Z",
     "shell.execute_reply": "2022-01-30T03:51:39.722367Z",
     "shell.execute_reply.started": "2021-12-07T12:54:30.772443Z"
    },
    "papermill": {
     "duration": 0.090064,
     "end_time": "2022-01-30T03:51:39.723099",
     "exception": false,
     "start_time": "2022-01-30T03:51:39.633035",
     "status": "completed"
    },
    "tags": []
   },
   "outputs": [],
   "source": [
    "#As aforementioned, this is unbalanced dataset. Therefore, we need to convert it into balanced way.  \n",
    "sm=SMOTE()\n",
    "x_sm,y_sm=sm.fit_resample(cvdf,y)"
   ]
  },
  {
   "cell_type": "code",
   "execution_count": 20,
   "id": "95d87d5e",
   "metadata": {
    "execution": {
     "iopub.execute_input": "2022-01-30T03:51:39.789866Z",
     "iopub.status.busy": "2022-01-30T03:51:39.789055Z",
     "iopub.status.idle": "2022-01-30T03:51:39.792180Z",
     "shell.execute_reply": "2022-01-30T03:51:39.792717Z",
     "shell.execute_reply.started": "2021-12-07T12:54:42.605517Z"
    },
    "papermill": {
     "duration": 0.040071,
     "end_time": "2022-01-30T03:51:39.792879",
     "exception": false,
     "start_time": "2022-01-30T03:51:39.752808",
     "status": "completed"
    },
    "tags": []
   },
   "outputs": [
    {
     "data": {
      "text/plain": [
       "0    4516\n",
       "1    4516\n",
       "Name: target, dtype: int64"
      ]
     },
     "execution_count": 20,
     "metadata": {},
     "output_type": "execute_result"
    }
   ],
   "source": [
    "#Problem solved!!!\n",
    "y_sm.value_counts()"
   ]
  },
  {
   "cell_type": "markdown",
   "id": "8b805752",
   "metadata": {
    "papermill": {
     "duration": 0.030696,
     "end_time": "2022-01-30T03:51:39.854625",
     "exception": false,
     "start_time": "2022-01-30T03:51:39.823929",
     "status": "completed"
    },
    "tags": []
   },
   "source": [
    "**<h3>Split data into train and test</h3>**"
   ]
  },
  {
   "cell_type": "code",
   "execution_count": 21,
   "id": "12b01f3b",
   "metadata": {
    "execution": {
     "iopub.execute_input": "2022-01-30T03:51:39.921395Z",
     "iopub.status.busy": "2022-01-30T03:51:39.920711Z",
     "iopub.status.idle": "2022-01-30T03:51:39.926304Z",
     "shell.execute_reply": "2022-01-30T03:51:39.926841Z",
     "shell.execute_reply.started": "2021-12-07T12:55:26.644062Z"
    },
    "papermill": {
     "duration": 0.04139,
     "end_time": "2022-01-30T03:51:39.927021",
     "exception": false,
     "start_time": "2022-01-30T03:51:39.885631",
     "status": "completed"
    },
    "tags": []
   },
   "outputs": [],
   "source": [
    "x_train,x_test,y_train,y_test=train_test_split(x_sm,y_sm,test_size=0.2,random_state=0)"
   ]
  },
  {
   "cell_type": "markdown",
   "id": "398462f3",
   "metadata": {
    "papermill": {
     "duration": 0.029869,
     "end_time": "2022-01-30T03:51:39.987417",
     "exception": false,
     "start_time": "2022-01-30T03:51:39.957548",
     "status": "completed"
    },
    "tags": []
   },
   "source": [
    "**<h3>Model building</h3>**"
   ]
  },
  {
   "cell_type": "code",
   "execution_count": 22,
   "id": "f91df7ca",
   "metadata": {
    "execution": {
     "iopub.execute_input": "2022-01-30T03:51:40.053478Z",
     "iopub.status.busy": "2022-01-30T03:51:40.051444Z",
     "iopub.status.idle": "2022-01-30T03:51:42.313343Z",
     "shell.execute_reply": "2022-01-30T03:51:42.312827Z",
     "shell.execute_reply.started": "2021-12-07T12:56:06.917413Z"
    },
    "papermill": {
     "duration": 2.295239,
     "end_time": "2022-01-30T03:51:42.313486",
     "exception": false,
     "start_time": "2022-01-30T03:51:40.018247",
     "status": "completed"
    },
    "tags": []
   },
   "outputs": [
    {
     "data": {
      "text/plain": [
       "0.961261759822911"
      ]
     },
     "execution_count": 22,
     "metadata": {},
     "output_type": "execute_result"
    }
   ],
   "source": [
    "#I have used only support vector machine but you can use different techniques, which can be improved accuracy.\n",
    "svm=SVC(kernel='linear')\n",
    "svm.fit(x_train,y_train)\n",
    "y_pred=svm.predict(x_test)\n",
    "accuracy_score(y_test,y_pred)"
   ]
  },
  {
   "cell_type": "code",
   "execution_count": 23,
   "id": "8cd91196",
   "metadata": {
    "execution": {
     "iopub.execute_input": "2022-01-30T03:51:42.379944Z",
     "iopub.status.busy": "2022-01-30T03:51:42.379176Z",
     "iopub.status.idle": "2022-01-30T03:51:42.562976Z",
     "shell.execute_reply": "2022-01-30T03:51:42.562413Z",
     "shell.execute_reply.started": "2021-12-07T12:57:58.703405Z"
    },
    "papermill": {
     "duration": 0.219121,
     "end_time": "2022-01-30T03:51:42.563123",
     "exception": false,
     "start_time": "2022-01-30T03:51:42.344002",
     "status": "completed"
    },
    "tags": []
   },
   "outputs": [
    {
     "data": {
      "text/plain": [
       "(<Figure size 432x288 with 1 Axes>,\n",
       " <AxesSubplot:xlabel='predicted label', ylabel='true label'>)"
      ]
     },
     "execution_count": 23,
     "metadata": {},
     "output_type": "execute_result"
    },
    {
     "data": {
      "image/png": "[encoded data removed]",
      "text/plain": [
       "<Figure size 432x288 with 1 Axes>"
      ]
     },
     "metadata": {
      "needs_background": "light"
     },
     "output_type": "display_data"
    }
   ],
   "source": [
    "from mlxtend.plotting import plot_confusion_matrix\n",
    "mat=confusion_matrix(y_test, y_pred)\n",
    "plot_confusion_matrix(conf_mat=mat)"
   ]
  },
  {
   "cell_type": "code",
   "execution_count": 24,
   "id": "8d69fdc4",
   "metadata": {
    "execution": {
     "iopub.execute_input": "2022-01-30T03:51:42.630890Z",
     "iopub.status.busy": "2022-01-30T03:51:42.630271Z",
     "iopub.status.idle": "2022-01-30T03:51:42.641043Z",
     "shell.execute_reply": "2022-01-30T03:51:42.640541Z",
     "shell.execute_reply.started": "2021-12-07T12:56:26.334246Z"
    },
    "papermill": {
     "duration": 0.046645,
     "end_time": "2022-01-30T03:51:42.641181",
     "exception": false,
     "start_time": "2022-01-30T03:51:42.594536",
     "status": "completed"
    },
    "tags": []
   },
   "outputs": [
    {
     "name": "stdout",
     "output_type": "stream",
     "text": [
      "              precision    recall  f1-score   support\n",
      "\n",
      "           0       0.98      0.94      0.96       895\n",
      "           1       0.94      0.98      0.96       912\n",
      "\n",
      "    accuracy                           0.96      1807\n",
      "   macro avg       0.96      0.96      0.96      1807\n",
      "weighted avg       0.96      0.96      0.96      1807\n",
      "\n"
     ]
    }
   ],
   "source": [
    "print(classification_report(y_test,y_pred))"
   ]
  },
  {
   "cell_type": "markdown",
   "id": "cc4045fa",
   "metadata": {
    "papermill": {
     "duration": 0.031884,
     "end_time": "2022-01-30T03:51:42.704776",
     "exception": false,
     "start_time": "2022-01-30T03:51:42.672892",
     "status": "completed"
    },
    "tags": []
   },
   "source": [
    "**<h3>Checking the model with new sample sms</h3>**"
   ]
  },
  {
   "cell_type": "code",
   "execution_count": 25,
   "id": "725ba390",
   "metadata": {
    "execution": {
     "iopub.execute_input": "2022-01-30T03:51:42.773649Z",
     "iopub.status.busy": "2022-01-30T03:51:42.772961Z",
     "iopub.status.idle": "2022-01-30T03:51:42.775748Z",
     "shell.execute_reply": "2022-01-30T03:51:42.775157Z",
     "shell.execute_reply.started": "2021-12-07T12:59:33.218764Z"
    },
    "papermill": {
     "duration": 0.039247,
     "end_time": "2022-01-30T03:51:42.775893",
     "exception": false,
     "start_time": "2022-01-30T03:51:42.736646",
     "status": "completed"
    },
    "tags": []
   },
   "outputs": [],
   "source": [
    "sms=[\"Hey, you have won a car !!!!. Conrgratzz\",\n",
    "     \"Dear applicant, Your CV has been recieved. Best regards\",\n",
    "     \"YOU ARE CHOSEN TO RECEIVE A å£350 AWARD! Pls call claim to collect your award which you are selected to receive as a valued mobile customer.\"\n",
    "    ]"
   ]
  },
  {
   "cell_type": "code",
   "execution_count": 26,
   "id": "156b19ca",
   "metadata": {
    "execution": {
     "iopub.execute_input": "2022-01-30T03:51:42.845310Z",
     "iopub.status.busy": "2022-01-30T03:51:42.844677Z",
     "iopub.status.idle": "2022-01-30T03:51:42.847274Z",
     "shell.execute_reply": "2022-01-30T03:51:42.846790Z",
     "shell.execute_reply.started": "2021-12-07T12:59:58.351242Z"
    },
    "papermill": {
     "duration": 0.039313,
     "end_time": "2022-01-30T03:51:42.847412",
     "exception": false,
     "start_time": "2022-01-30T03:51:42.808099",
     "status": "completed"
    },
    "tags": []
   },
   "outputs": [],
   "source": [
    "#cleaning text\n",
    "unseen=[]\n",
    "\n",
    "for i in range(len(sms)):\n",
    "    review=re.sub('[^a-zA-Z]',' ',sms[i])\n",
    "    review=review.lower()\n",
    "    unseen.append(review)"
   ]
  },
  {
   "cell_type": "code",
   "execution_count": 27,
   "id": "36baf8c8",
   "metadata": {
    "execution": {
     "iopub.execute_input": "2022-01-30T03:51:42.916199Z",
     "iopub.status.busy": "2022-01-30T03:51:42.915237Z",
     "iopub.status.idle": "2022-01-30T03:51:42.922609Z",
     "shell.execute_reply": "2022-01-30T03:51:42.923166Z",
     "shell.execute_reply.started": "2021-12-07T13:00:14.007834Z"
    },
    "papermill": {
     "duration": 0.042501,
     "end_time": "2022-01-30T03:51:42.923359",
     "exception": false,
     "start_time": "2022-01-30T03:51:42.880858",
     "status": "completed"
    },
    "tags": []
   },
   "outputs": [
    {
     "data": {
      "text/plain": [
       "array([1, 0, 1])"
      ]
     },
     "execution_count": 27,
     "metadata": {},
     "output_type": "execute_result"
    }
   ],
   "source": [
    "#0->ham (or good sms) 1->spam \n",
    "yp=svm.predict(cvec.transform(unseen))\n",
    "yp"
   ]
  }
 ],
 "metadata": {
  "kernelspec": {
   "display_name": "Python 3",
   "language": "python",
   "name": "python3"
  },
  "language_info": {
   "codemirror_mode": {
    "name": "ipython",
    "version": 3
   },
   "file_extension": ".py",
   "mimetype": "text/x-python",
   "name": "python",
   "nbconvert_exporter": "python",
   "pygments_lexer": "ipython3",
   "version": "3.7.12"
  },
  "papermill": {
   "default_parameters": {},
   "duration": 17.363482,
   "end_time": "2022-01-30T03:51:43.664855",
   "environment_variables": {},
   "exception": null,
   "input_path": "__notebook__.ipynb",
   "output_path": "__notebook__.ipynb",
   "parameters": {},
   "start_time": "2022-01-30T03:51:26.301373",
   "version": "2.3.3"
  }
 },
 "nbformat": 4,
 "nbformat_minor": 5
}
